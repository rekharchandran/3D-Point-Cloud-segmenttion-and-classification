{
 "cells": [
  {
   "cell_type": "code",
   "execution_count": 1,
   "id": "0d64d910",
   "metadata": {},
   "outputs": [],
   "source": [
    "import torch"
   ]
  },
  {
   "cell_type": "code",
   "execution_count": 2,
   "id": "bc02bc4b",
   "metadata": {},
   "outputs": [
    {
     "data": {
      "text/plain": [
       "True"
      ]
     },
     "execution_count": 2,
     "metadata": {},
     "output_type": "execute_result"
    }
   ],
   "source": [
    "torch.cuda.is_available()"
   ]
  },
  {
   "cell_type": "code",
   "execution_count": 3,
   "id": "38f73a36",
   "metadata": {},
   "outputs": [],
   "source": [
    "import pandas as pd\n",
    "import numpy as np\n",
    "import random"
   ]
  },
  {
   "cell_type": "code",
   "execution_count": 4,
   "id": "8c814f14",
   "metadata": {},
   "outputs": [],
   "source": [
    "from IPython.display import Image"
   ]
  },
  {
   "cell_type": "code",
   "execution_count": 5,
   "id": "6a9ae0c8",
   "metadata": {},
   "outputs": [
    {
     "name": "stdout",
     "output_type": "stream",
     "text": [
      "C:\\Users\\Rekha\\Documents\\Pointcloud_classification\\pointnet.pytorch\n"
     ]
    }
   ],
   "source": [
    "%cd  \"/Users/Rekha/Documents/Pointcloud_classification/pointnet.pytorch\""
   ]
  },
  {
   "cell_type": "code",
   "execution_count": 6,
   "id": "59407912",
   "metadata": {},
   "outputs": [
    {
     "name": "stdout",
     "output_type": "stream",
     "text": [
      "C:\\Users\\Rekha\\Documents\\Pointcloud_classification\\pointnet.pytorch\\utils\n"
     ]
    }
   ],
   "source": [
    "%cd utils"
   ]
  },
  {
   "cell_type": "code",
   "execution_count": 7,
   "id": "cdc5bf12",
   "metadata": {},
   "outputs": [],
   "source": [
    "random.seed = 42"
   ]
  },
  {
   "cell_type": "code",
   "execution_count": 8,
   "id": "bd2d516d",
   "metadata": {},
   "outputs": [],
   "source": [
    "batchSize = 8"
   ]
  },
  {
   "cell_type": "code",
   "execution_count": null,
   "id": "4a0ef3d6",
   "metadata": {},
   "outputs": [],
   "source": [
    "!python train_classification.py --dataset \"/Users/Rekha/Documents/Pointcloud_classification/pointnet.pytorch/dataset/shapenetcore\" --nepoch=100 --batchSize=32 --dataset_type shapenet --workers 2"
   ]
  },
  {
   "cell_type": "code",
   "execution_count": null,
   "id": "878d1612",
   "metadata": {},
   "outputs": [],
   "source": []
  }
 ],
 "metadata": {
  "kernelspec": {
   "display_name": "pytorch",
   "language": "python",
   "name": "pytorch"
  },
  "language_info": {
   "codemirror_mode": {
    "name": "ipython",
    "version": 3
   },
   "file_extension": ".py",
   "mimetype": "text/x-python",
   "name": "python",
   "nbconvert_exporter": "python",
   "pygments_lexer": "ipython3",
   "version": "3.8.5"
  }
 },
 "nbformat": 4,
 "nbformat_minor": 5
}
