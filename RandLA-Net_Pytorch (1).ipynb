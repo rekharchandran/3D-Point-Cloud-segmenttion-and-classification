{
 "cells": [
  {
   "cell_type": "code",
   "execution_count": 2,
   "id": "1aba4b30",
   "metadata": {},
   "outputs": [],
   "source": [
    "import torch, torchvision"
   ]
  },
  {
   "cell_type": "code",
   "execution_count": 3,
   "id": "2b043678",
   "metadata": {},
   "outputs": [
    {
     "data": {
      "text/plain": [
       "True"
      ]
     },
     "execution_count": 3,
     "metadata": {},
     "output_type": "execute_result"
    }
   ],
   "source": [
    "torch.cuda.is_available()"
   ]
  },
  {
   "cell_type": "code",
   "execution_count": 7,
   "id": "1a9476b7",
   "metadata": {},
   "outputs": [
    {
     "name": "stdout",
     "output_type": "stream",
     "text": [
      "11.3\n"
     ]
    }
   ],
   "source": [
    "print(torch.version.cuda)"
   ]
  },
  {
   "cell_type": "code",
   "execution_count": 2,
   "id": "1fa464e2",
   "metadata": {},
   "outputs": [
    {
     "name": "stdout",
     "output_type": "stream",
     "text": [
      "Jupyter environment detected. Enabling Open3D WebVisualizer.\n",
      "[Open3D INFO] WebRTC GUI backend enabled.\n",
      "[Open3D INFO] WebRTCWindowSystem: HTTP handshake server disabled.\n"
     ]
    }
   ],
   "source": [
    "import numpy as np\n",
    "import open3d as o3d\n",
    "import os\n",
    "from pathlib import Path\n",
    "from tqdm import tqdm\n",
    "from setuptools import setup"
   ]
  },
  {
   "cell_type": "code",
   "execution_count": null,
   "id": "36a26a52",
   "metadata": {},
   "outputs": [],
   "source": [
    "#!git clone https://github.com/aRI0U/RandLA-Net-pytorch.git"
   ]
  },
  {
   "cell_type": "code",
   "execution_count": 3,
   "id": "9ea7118c",
   "metadata": {},
   "outputs": [
    {
     "name": "stdout",
     "output_type": "stream",
     "text": [
      "/storage/Projects/notebooks/RandLA-Net-pytorch\n"
     ]
    }
   ],
   "source": [
    "%cd RandLA-Net-pytorch"
   ]
  },
  {
   "cell_type": "code",
   "execution_count": null,
   "id": "50ac4b3f",
   "metadata": {},
   "outputs": [],
   "source": [
    "#!pip install -r requirements.txt"
   ]
  },
  {
   "cell_type": "code",
   "execution_count": 4,
   "id": "5c2fc579",
   "metadata": {},
   "outputs": [
    {
     "name": "stdout",
     "output_type": "stream",
     "text": [
      "/storage/Projects/notebooks/RandLA-Net-pytorch/utils\n"
     ]
    }
   ],
   "source": [
    "%cd /storage/Projects/notebooks/RandLA-Net-pytorch/utils"
   ]
  },
  {
   "cell_type": "code",
   "execution_count": null,
   "id": "4e80832b",
   "metadata": {},
   "outputs": [],
   "source": [
    "#!bash download_semantic3d.sh"
   ]
  },
  {
   "cell_type": "code",
   "execution_count": 6,
   "id": "22fd8824",
   "metadata": {},
   "outputs": [
    {
     "name": "stdout",
     "output_type": "stream",
     "text": [
      "Computing point clouds as npy files. This operation is very time-consuming.\n",
      "Traceback (most recent call last):\n",
      "  File \"prepare_semantic3d.py\", line 32, in <module>\n",
      "    for pc_path in RAW_PATH.glob('*.txt'):\n",
      "AttributeError: 'str' object has no attribute 'glob'\n"
     ]
    }
   ],
   "source": [
    "!python3 prepare_semantic3d.py"
   ]
  },
  {
   "cell_type": "code",
   "execution_count": null,
   "id": "ac4bdf99",
   "metadata": {},
   "outputs": [],
   "source": [
    "!pwd"
   ]
  },
  {
   "cell_type": "code",
   "execution_count": 7,
   "id": "c2a52bb4",
   "metadata": {},
   "outputs": [
    {
     "name": "stdout",
     "output_type": "stream",
     "text": [
      "/storage/Projects/notebooks/RandLA-Net-pytorch/utils/cpp_wrappers\n"
     ]
    }
   ],
   "source": [
    "%cd /storage/Projects/notebooks/RandLA-Net-pytorch/utils/cpp_wrappers"
   ]
  },
  {
   "cell_type": "code",
   "execution_count": null,
   "id": "d5a90e7b",
   "metadata": {},
   "outputs": [],
   "source": [
    "#!sudo -H python3.6 -m pip install --upgrade pip wheel setuptools\n",
    "#!sudo -H python3.6 -m pip install colorama --upgrade\n",
    "#!sudo -H python3.6 -m pip install shap"
   ]
  },
  {
   "cell_type": "code",
   "execution_count": 8,
   "id": "bda0b586",
   "metadata": {},
   "outputs": [
    {
     "name": "stdout",
     "output_type": "stream",
     "text": [
      "\u001b[39mrunning build_ext\u001b[0m\r\n"
     ]
    }
   ],
   "source": [
    "!bash compile_wrappers.sh "
   ]
  },
  {
   "cell_type": "code",
   "execution_count": 11,
   "id": "b3223e23",
   "metadata": {},
   "outputs": [
    {
     "name": "stdout",
     "output_type": "stream",
     "text": [
      "/storage/Projects/notebooks\n"
     ]
    }
   ],
   "source": [
    "cd .."
   ]
  },
  {
   "cell_type": "code",
   "execution_count": 12,
   "id": "3b3e907a",
   "metadata": {},
   "outputs": [
    {
     "name": "stdout",
     "output_type": "stream",
     "text": [
      "/storage/Projects/notebooks/RandLA-Net-pytorch\n"
     ]
    }
   ],
   "source": [
    "%cd /storage/Projects/notebooks/RandLA-Net-pytorch"
   ]
  },
  {
   "cell_type": "code",
   "execution_count": 13,
   "id": "b45fb322",
   "metadata": {},
   "outputs": [
    {
     "name": "stdout",
     "output_type": "stream",
     "text": [
      "Number of distinct classes in the dataset: ^C\n",
      "Traceback (most recent call last):\n",
      "  File \"train.py\", line 45, in train\n",
      "    with open(args.dataset / 'classes.json') as f:\n",
      "FileNotFoundError: [Errno 2] No such file or directory: 'datasets/s3dis/subsampled/classes.json'\n",
      "\n",
      "During handling of the above exception, another exception occurred:\n",
      "\n",
      "Traceback (most recent call last):\n",
      "  File \"train.py\", line 263, in <module>\n",
      "    train(args)\n",
      "  File \"train.py\", line 49, in train\n",
      "    num_classes = int(input(\"Number of distinct classes in the dataset: \"))\n",
      "KeyboardInterrupt\n",
      "\u001b[0m"
     ]
    }
   ],
   "source": [
    "!python3 train.py"
   ]
  },
  {
   "cell_type": "code",
   "execution_count": null,
   "id": "2ee254fc",
   "metadata": {},
   "outputs": [],
   "source": []
  }
 ],
 "metadata": {
  "kernelspec": {
   "display_name": "Python 3",
   "language": "python",
   "name": "python3"
  },
  "language_info": {
   "codemirror_mode": {
    "name": "ipython",
    "version": 3
   },
   "file_extension": ".py",
   "mimetype": "text/x-python",
   "name": "python",
   "nbconvert_exporter": "python",
   "pygments_lexer": "ipython3",
   "version": "3.6.9"
  }
 },
 "nbformat": 4,
 "nbformat_minor": 5
}
